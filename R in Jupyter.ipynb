{
 "cells": [
  {
   "cell_type": "code",
   "execution_count": 2,
   "metadata": {
    "collapsed": false
   },
   "outputs": [
    {
     "ename": "ERROR",
     "evalue": "Error in download.file(input, tt, mode = \"wb\", quiet = !showProgress): cannot open URL 'http://figshare.com/download/file/3338657'\n",
     "output_type": "error",
     "traceback": [
      "Error in download.file(input, tt, mode = \"wb\", quiet = !showProgress): cannot open URL 'http://figshare.com/download/file/3338657'\nTraceback:\n",
      "1. fread(\"http://figshare.com/download/file/3338657\")",
      "2. download.file(input, tt, mode = \"wb\", quiet = !showProgress)"
     ]
    }
   ],
   "source": [
    "library(data.table)\n",
    "\n",
    "data <- fread(\"http://figshare.com/download/file/3338657\")\n",
    "                     #comments=\"#\", usecols=range(2,73,1), names=True, dtype=object, delimiter=\"\\t\")\n"
   ]
  },
  {
   "cell_type": "code",
   "execution_count": null,
   "metadata": {
    "collapsed": true
   },
   "outputs": [],
   "source": []
  }
 ],
 "metadata": {
  "kernelspec": {
   "display_name": "R",
   "language": "R",
   "name": "ir"
  },
  "language_info": {
   "codemirror_mode": "r",
   "file_extension": ".r",
   "mimetype": "text/x-r-source",
   "name": "R",
   "pygments_lexer": "r",
   "version": "3.3.0"
  }
 },
 "nbformat": 4,
 "nbformat_minor": 2
}
