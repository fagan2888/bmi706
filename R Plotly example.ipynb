{
 "cells": [
  {
   "cell_type": "code",
   "execution_count": 5,
   "metadata": {
    "collapsed": false
   },
   "outputs": [
    {
     "name": "stderr",
     "output_type": "stream",
     "text": [
      "Installing package into ‘/usr/local/lib/R/3.3/site-library’\n",
      "(as ‘lib’ is unspecified)\n",
      "Installing package into ‘/usr/local/lib/R/3.3/site-library’\n",
      "(as ‘lib’ is unspecified)\n",
      "also installing the dependencies ‘httpuv’, ‘xtable’, ‘sourcetools’\n",
      "\n"
     ]
    }
   ],
   "source": [
    "install.packages('plotly')"
   ]
  },
  {
   "cell_type": "code",
   "execution_count": 7,
   "metadata": {
    "collapsed": false
   },
   "outputs": [
    {
     "name": "stderr",
     "output_type": "stream",
     "text": [
      "Installing package into ‘/usr/local/lib/R/3.3/site-library’\n",
      "(as ‘lib’ is unspecified)\n"
     ]
    }
   ],
   "source": [
    "install.packages('shiny')"
   ]
  },
  {
   "cell_type": "code",
   "execution_count": null,
   "metadata": {
    "collapsed": false
   },
   "outputs": [
    {
     "name": "stderr",
     "output_type": "stream",
     "text": [
      "\n",
      "Listening on http://127.0.0.1:5350\n",
      "No trace type specified:\n",
      "  Based on info supplied, a 'scatter' trace seems appropriate.\n",
      "  Read more about this trace type -> https://plot.ly/r/reference/#scatter\n",
      "No trace type specified:\n",
      "  Based on info supplied, a 'scatter' trace seems appropriate.\n",
      "  Read more about this trace type -> https://plot.ly/r/reference/#scatter\n"
     ]
    }
   ],
   "source": [
    "library(plotly)\n",
    "library(shiny)\n",
    "\n",
    "# user interface\n",
    "ui <- fluidPage(\n",
    "  titlePanel(\"Linked highlighting with plotly and shiny\"),\n",
    "  mainPanel(\n",
    "    htmltools::div(style = \"display:inline-block\", plotlyOutput(\"x\", width = 400, height = 250)),\n",
    "    wellPanel(\n",
    "      style = \"display:inline-block; vertical-align:top;\", \n",
    "      sliderInput(\"xbins\", \"Number of x bins\", \n",
    "                  min = 1, max = 50, value = 20, width = 250),\n",
    "      sliderInput(\"ybins\", \"Number of y bins\", \n",
    "                  min = 1, max = 50, value = 20, width = 250)\n",
    "    ),\n",
    "    br(),\n",
    "    htmltools::div(style = \"display:inline-block\", plotlyOutput(\"xy\", width = 400, height = 400)),\n",
    "    htmltools::div(style = \"display:inline-block\", plotlyOutput(\"y\", width = 250, height = 400))\n",
    "  )\n",
    ")\n",
    "\n",
    "# marker objects\n",
    "m <- list(color = toRGB(\"black\"))\n",
    "m2 <- list(color = toRGB(\"black\", 0.2))\n",
    "\n",
    "server <- function(input, output, session) {\n",
    "\n",
    "  # convenience function for computing xbin/ybin object given a number of bins\n",
    "  compute_bins <- function(x, n) {\n",
    "    list(\n",
    "      start = min(x),\n",
    "      end = max(x),\n",
    "      size = (max(x) - min(x)) / n\n",
    "    )\n",
    "  }\n",
    "\n",
    "  # the 'x' histogram\n",
    "  output$x <- renderPlotly({\n",
    "    x <- cars$speed\n",
    "    xbins <- compute_bins(x, input$xbins)\n",
    "    p <- plot_ly(x = x, type = \"histogram\", autobinx = F, \n",
    "                 xbins = xbins, marker = m2)\n",
    "    # obtain plotlyjs selection\n",
    "    s <- event_data(\"plotly_selected\")\n",
    "    # if points are selected, subset the data, and highlight\n",
    "    if (length(s$x) > 0) {\n",
    "      p <- add_trace(p, x = s$x, type = \"histogram\", autobinx = F, \n",
    "                     xbins = xbins, marker = m)\n",
    "    }\n",
    "    p %>%\n",
    "      config(displayModeBar = F, showLink = F) %>%\n",
    "      layout(showlegend = F, barmode = \"overlay\", yaxis = list(title = \"count\"),\n",
    "             xaxis = list(title = \"\", showticklabels = F))\n",
    "  })\n",
    "\n",
    "  # basically the same as 'x' histogram\n",
    "  output$y <- renderPlotly({\n",
    "    y <- cars$dist\n",
    "    ybins <- compute_bins(y, input$ybins)\n",
    "    p <- plot_ly(y = y, type = \"histogram\", autobiny = F, \n",
    "                 ybins = ybins, marker = m2)\n",
    "    s <- event_data(\"plotly_selected\")\n",
    "    if (length(s$y) > 0) {\n",
    "      p <- add_trace(p, y = s$y, type = \"histogram\", autobiny = F, \n",
    "                     ybins = ybins, marker = m)\n",
    "    }\n",
    "    p %>%\n",
    "      config(displayModeBar = F, showLink = F) %>%\n",
    "      layout(showlegend = F, barmode = \"overlay\", xaxis = list(title = \"count\"),\n",
    "             yaxis = list(title = \"\", showticklabels = F))\n",
    "  })\n",
    "\n",
    "  output$xy <- renderPlotly({\n",
    "    cars %>% \n",
    "      plot_ly(x = ~speed, y = ~dist, \n",
    "              mode = \"markers\", marker = m) %>%\n",
    "      layout(dragmode = \"select\")\n",
    "  })\n",
    "\n",
    "}\n",
    "\n",
    "shinyApp(ui, server)"
   ]
  },
  {
   "cell_type": "code",
   "execution_count": 2,
   "metadata": {
    "collapsed": false
   },
   "outputs": [
    {
     "name": "stderr",
     "output_type": "stream",
     "text": [
      "Installing package into ‘/usr/local/lib/R/3.3/site-library’\n",
      "(as ‘lib’ is unspecified)\n",
      "also installing the dependencies ‘viridisLite’, ‘base64enc’, ‘htmlwidgets’, ‘tidyr’, ‘dplyr’, ‘hexbin’, ‘purrr’\n",
      "\n"
     ]
    }
   ],
   "source": []
  },
  {
   "cell_type": "code",
   "execution_count": null,
   "metadata": {
    "collapsed": true
   },
   "outputs": [],
   "source": []
  }
 ],
 "metadata": {
  "kernelspec": {
   "display_name": "R",
   "language": "R",
   "name": "ir"
  },
  "language_info": {
   "codemirror_mode": "r",
   "file_extension": ".r",
   "mimetype": "text/x-r-source",
   "name": "R",
   "pygments_lexer": "r",
   "version": "3.3.0"
  }
 },
 "nbformat": 4,
 "nbformat_minor": 2
}
